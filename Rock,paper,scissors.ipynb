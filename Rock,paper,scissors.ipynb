{
  "nbformat": 4,
  "nbformat_minor": 0,
  "metadata": {
    "colab": {
      "provenance": [],
      "authorship_tag": "ABX9TyMTmR3RFeDWvb4wy6Ge7xKq"
    },
    "kernelspec": {
      "name": "python3",
      "display_name": "Python 3"
    },
    "language_info": {
      "name": "python"
    }
  },
  "cells": [
    {
      "cell_type": "code",
      "source": [
        "import random\n",
        "from IPython.display import clear_output\n",
        "\n",
        "choices = {'Rock':1, 'Paper':2, 'Scissors':3}\n",
        "\n",
        "def play():\n",
        "  player_score = 0\n",
        "  computer_score = 0  \n",
        "  print('''Welcome to Rock, Paper, Scissors.  Choose 1 for Rock, 2 for Paper, and 3 for Scissors.  Best 2 out of 3 wins. Good luck!''')\n",
        "  \n",
        "  while True:\n",
        "    player_choice = int(input('Rock, Paper, Scissors: '))\n",
        "    computer_choice=random.randint(1,3)\n",
        "    print('You picked: ', list(choices.keys())[list(choices.values()).index(player_choice)])\n",
        "    print('Computer picked: ', list(choices.keys())[list(choices.values()).index(computer_choice)])\n",
        "\n",
        "    if player_choice == computer_choice:\n",
        "      print(\"It's a tie!\")\n",
        "\n",
        "    if player_choice == 1:\n",
        "      if computer_choice == 2:\n",
        "        computer_score +=1\n",
        "        print(\"You lose! \")\n",
        "      elif computer_choice == 3: \n",
        "        player_score +=1 \n",
        "        print(\"You win! \")\n",
        " \n",
        "    if player_choice == 2:\n",
        "      if computer_choice == 3:\n",
        "        computer_score +=1\n",
        "        print(\"You lose! \")\n",
        "      elif computer_choice == 1:\n",
        "        player_score +=1\n",
        "        print(\"You win! \")\n",
        "\n",
        "    if player_choice == 3:\n",
        "      if computer_choice == 1:\n",
        "        computer_score +=1\n",
        "        print(\"You lose! \")\n",
        "      elif computer_choice == 2:\n",
        "        player_score +=1\n",
        "        print(\"You win! \")\n",
        "\n",
        "    if computer_score == 2:\n",
        "      print(\"COMPUTER WINS!!\")\n",
        "      break\n",
        "    elif player_score == 2:\n",
        "      print(\"YOU WIN!! \")\n",
        "      break\n",
        "    \n",
        "    print('Score: ',player_score,'You',computer_score,'CPU')\n",
        "\n",
        "  new_game = input('Play again(Y/N)?: ')\n",
        "  if new_game.lower() == 'y':\n",
        "    clear_output(wait=False)\n",
        "    play()\n",
        "  else:\n",
        "    exit()\n",
        "\n",
        "       \n",
        "play()"
      ],
      "metadata": {
        "id": "jRV-xpoo7wxT",
        "colab": {
          "base_uri": "https://localhost:8080/"
        },
        "outputId": "d8e37334-0adf-4318-972c-edb14ffbe451"
      },
      "execution_count": 1,
      "outputs": [
        {
          "name": "stdout",
          "output_type": "stream",
          "text": [
            "Welcome to Rock, Paper, Scissors.  Choose 1 for Rock, 2 for Paper, and 3 for Scissors.  Best 2 out of 3 wins. Good luck!\n",
            "Rock, Paper, Scissors: 1\n",
            "You picked:  Rock\n",
            "Computer picked:  Paper\n",
            "You lose! \n",
            "Score:  0 You 1 CPU\n",
            "Rock, Paper, Scissors: 2\n",
            "You picked:  Paper\n",
            "Computer picked:  Rock\n",
            "You win! \n",
            "Score:  1 You 1 CPU\n",
            "Rock, Paper, Scissors: 2\n",
            "You picked:  Paper\n",
            "Computer picked:  Rock\n",
            "You win! \n",
            "YOU WIN!! \n",
            "Play again(Y/N)?: N\n"
          ]
        }
      ]
    }
  ]
}